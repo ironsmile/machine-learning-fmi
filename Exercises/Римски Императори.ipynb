{
 "cells": [
  {
   "cell_type": "markdown",
   "metadata": {},
   "source": [
    "# Римски императори\n",
    "\n",
    "Тук ще се опитам да предскажа колко време ще управлява нов римски император. За целта ще използвам данните за императорите между Август (26г. пр.н.е.) и Теодосий Първи (395г.). Осъзнавам, че вероятно няма да има достатъчно голяма зависимост между данните и продължителноста на управление, но нищо не ми пречи да опитам. Ако имаше данни и за [следващите хиляда години римски императори](https://thehistoryofbyzantium.com/2017/01/09/all-the-emperors-in-rhyme/) може би положението щеше да е друго, но не :( Благодаря, Gibbon!\n",
    "\n",
    "Също така, мисля да опитам да предскажа и за няколко от следващите императори, за които ще си въведа данните ръчно. Ако модела покаже някакъв смисъл, разбира се.\n",
    "\n",
    "Data set-а е от kaggle - [линк](https://www.kaggle.com/lberder/roman-emperors-from-26-bc-to-395-ad/data). Данните трябва да се сложат във файл с име `roman-emperors.csv` в директорията, в която е notebook-a."
   ]
  },
  {
   "cell_type": "markdown",
   "metadata": {},
   "source": [
    "## Но какъв е смисъла от това?\n",
    "\n",
    "Признавам, че шансовете утре да се появи нов римски император са ниски. Но ако все пак стане, ще знаем след колко време империята му ще е \"освободена\" и \"демократиризирана\" с помощта на \"миротворци\", подозрително управляващи танкова и самолети хахаха :D А и в упражнението сег овори за работа с данни, а не за полезни резултати."
   ]
  },
  {
   "cell_type": "code",
   "execution_count": 1,
   "metadata": {},
   "outputs": [],
   "source": [
    "# Първо няколко библиотеки, които ще ни трябват\n",
    "import numpy as np\n",
    "import matplotlib.pyplot as plt\n",
    "import pandas as pd\n",
    "import mglearn\n",
    "\n",
    "%matplotlib inline"
   ]
  },
  {
   "cell_type": "code",
   "execution_count": 2,
   "metadata": {},
   "outputs": [
    {
     "data": {
      "text/html": [
       "<div>\n",
       "<style>\n",
       "    .dataframe thead tr:only-child th {\n",
       "        text-align: right;\n",
       "    }\n",
       "\n",
       "    .dataframe thead th {\n",
       "        text-align: left;\n",
       "    }\n",
       "\n",
       "    .dataframe tbody tr th {\n",
       "        vertical-align: top;\n",
       "    }\n",
       "</style>\n",
       "<table border=\"1\" class=\"dataframe\">\n",
       "  <thead>\n",
       "    <tr style=\"text-align: right;\">\n",
       "      <th></th>\n",
       "      <th>Name</th>\n",
       "      <th>Full Name</th>\n",
       "      <th>Birth</th>\n",
       "      <th>Death</th>\n",
       "      <th>Birth City</th>\n",
       "      <th>Birth Province</th>\n",
       "      <th>Succession</th>\n",
       "      <th>Reign Start</th>\n",
       "      <th>Reign End</th>\n",
       "      <th>Cause</th>\n",
       "      <th>Killer</th>\n",
       "      <th>Dynasty</th>\n",
       "      <th>Era</th>\n",
       "      <th>Notes</th>\n",
       "      <th>Verif</th>\n",
       "      <th>Image</th>\n",
       "    </tr>\n",
       "    <tr>\n",
       "      <th>Index</th>\n",
       "      <th></th>\n",
       "      <th></th>\n",
       "      <th></th>\n",
       "      <th></th>\n",
       "      <th></th>\n",
       "      <th></th>\n",
       "      <th></th>\n",
       "      <th></th>\n",
       "      <th></th>\n",
       "      <th></th>\n",
       "      <th></th>\n",
       "      <th></th>\n",
       "      <th></th>\n",
       "      <th></th>\n",
       "      <th></th>\n",
       "      <th></th>\n",
       "    </tr>\n",
       "  </thead>\n",
       "  <tbody>\n",
       "    <tr>\n",
       "      <th>52</th>\n",
       "      <td>Galerius</td>\n",
       "      <td>CAESAR GALERIVS VALERIVS MAXIMIANVS AVGVSTVS</td>\n",
       "      <td>0260-01-01T00:53:28+00:53</td>\n",
       "      <td>0311-05-01T00:53:28+00:53</td>\n",
       "      <td>Romuliana</td>\n",
       "      <td>Moesia Superior</td>\n",
       "      <td>Appointment by Emperor</td>\n",
       "      <td>0305-05-01T00:53:28+00:53</td>\n",
       "      <td>0311-05-01T00:53:28+00:53</td>\n",
       "      <td>Natural Causes</td>\n",
       "      <td>Disease</td>\n",
       "      <td>Constantinian</td>\n",
       "      <td>Dominate</td>\n",
       "      <td>birth, death, reign.end are estimates</td>\n",
       "      <td>NaN</td>\n",
       "      <td>https://public.opendatasoft.com/api/datasets/1...</td>\n",
       "    </tr>\n",
       "    <tr>\n",
       "      <th>57</th>\n",
       "      <td>Lucinius I</td>\n",
       "      <td>CAESAR GAIVS VALERIVS LICINIVS AVGVSTVS</td>\n",
       "      <td>0250-01-01T00:53:28+00:53</td>\n",
       "      <td>0325-03-01T00:53:28+00:53</td>\n",
       "      <td>Felix Romuliana</td>\n",
       "      <td>Moesia Superior</td>\n",
       "      <td>Birthright</td>\n",
       "      <td>0308-11-11T00:53:28+00:53</td>\n",
       "      <td>0324-09-18T00:53:28+00:53</td>\n",
       "      <td>Execution</td>\n",
       "      <td>Other Emperor</td>\n",
       "      <td>Constantinian</td>\n",
       "      <td>Dominate</td>\n",
       "      <td>birth, death, are only estimates</td>\n",
       "      <td>NaN</td>\n",
       "      <td>https://public.opendatasoft.com/api/datasets/1...</td>\n",
       "    </tr>\n",
       "    <tr>\n",
       "      <th>33</th>\n",
       "      <td>Philip I</td>\n",
       "      <td>CAESAR MARCVS IVLIVS PHILIPPVS AVGVSTVS</td>\n",
       "      <td>0204-01-01T00:53:28+00:53</td>\n",
       "      <td>0249-10-01T00:53:28+00:53</td>\n",
       "      <td>Shahba</td>\n",
       "      <td>Syria</td>\n",
       "      <td>Seized Power</td>\n",
       "      <td>0244-02-14T00:53:28+00:53</td>\n",
       "      <td>0249-10-01T00:53:28+00:53</td>\n",
       "      <td>Execution</td>\n",
       "      <td>Other Emperor</td>\n",
       "      <td>Gordian</td>\n",
       "      <td>Principate</td>\n",
       "      <td>reign.end is only estimate</td>\n",
       "      <td>NaN</td>\n",
       "      <td>https://public.opendatasoft.com/api/datasets/1...</td>\n",
       "    </tr>\n",
       "    <tr>\n",
       "      <th>36</th>\n",
       "      <td>Trebonianus Gallus</td>\n",
       "      <td>CAESAR GAIVS VIBIVS TREBONIANVS GALLVS AVGVSTVS</td>\n",
       "      <td>0206-01-01T00:53:28+00:53</td>\n",
       "      <td>0253-08-15T00:53:28+00:53</td>\n",
       "      <td>NaN</td>\n",
       "      <td>Italia</td>\n",
       "      <td>Appointment by Army</td>\n",
       "      <td>0251-06-15T00:53:28+00:53</td>\n",
       "      <td>0253-08-15T00:53:28+00:53</td>\n",
       "      <td>Assassination</td>\n",
       "      <td>Other Emperor</td>\n",
       "      <td>Gordian</td>\n",
       "      <td>Principate</td>\n",
       "      <td>birth, death, reign.end, reign.start are estim...</td>\n",
       "      <td>NaN</td>\n",
       "      <td>https://public.opendatasoft.com/api/datasets/1...</td>\n",
       "    </tr>\n",
       "    <tr>\n",
       "      <th>31</th>\n",
       "      <td>Balbinus</td>\n",
       "      <td>CAESAR DECIMVS CAELIVS CALVINVS BALBINVS PIVS ...</td>\n",
       "      <td>0178-01-01T00:53:28+00:53</td>\n",
       "      <td>0238-07-29T00:53:28+00:53</td>\n",
       "      <td>NaN</td>\n",
       "      <td>Unknown</td>\n",
       "      <td>Appointment by Senate</td>\n",
       "      <td>0238-04-22T00:53:28+00:53</td>\n",
       "      <td>0238-07-29T00:53:28+00:53</td>\n",
       "      <td>Assassination</td>\n",
       "      <td>Praetorian Guard</td>\n",
       "      <td>Gordian</td>\n",
       "      <td>Principate</td>\n",
       "      <td>birth is only estimate.</td>\n",
       "      <td>NaN</td>\n",
       "      <td>https://public.opendatasoft.com/api/datasets/1...</td>\n",
       "    </tr>\n",
       "  </tbody>\n",
       "</table>\n",
       "</div>"
      ],
      "text/plain": [
       "                     Name                                          Full Name  \\\n",
       "Index                                                                          \n",
       "52               Galerius       CAESAR GALERIVS VALERIVS MAXIMIANVS AVGVSTVS   \n",
       "57             Lucinius I            CAESAR GAIVS VALERIVS LICINIVS AVGVSTVS   \n",
       "33               Philip I            CAESAR MARCVS IVLIVS PHILIPPVS AVGVSTVS   \n",
       "36     Trebonianus Gallus    CAESAR GAIVS VIBIVS TREBONIANVS GALLVS AVGVSTVS   \n",
       "31               Balbinus  CAESAR DECIMVS CAELIVS CALVINVS BALBINVS PIVS ...   \n",
       "\n",
       "                           Birth                      Death       Birth City  \\\n",
       "Index                                                                          \n",
       "52     0260-01-01T00:53:28+00:53  0311-05-01T00:53:28+00:53        Romuliana   \n",
       "57     0250-01-01T00:53:28+00:53  0325-03-01T00:53:28+00:53  Felix Romuliana   \n",
       "33     0204-01-01T00:53:28+00:53  0249-10-01T00:53:28+00:53           Shahba   \n",
       "36     0206-01-01T00:53:28+00:53  0253-08-15T00:53:28+00:53              NaN   \n",
       "31     0178-01-01T00:53:28+00:53  0238-07-29T00:53:28+00:53              NaN   \n",
       "\n",
       "        Birth Province              Succession                Reign Start  \\\n",
       "Index                                                                       \n",
       "52     Moesia Superior  Appointment by Emperor  0305-05-01T00:53:28+00:53   \n",
       "57     Moesia Superior              Birthright  0308-11-11T00:53:28+00:53   \n",
       "33               Syria            Seized Power  0244-02-14T00:53:28+00:53   \n",
       "36              Italia     Appointment by Army  0251-06-15T00:53:28+00:53   \n",
       "31             Unknown   Appointment by Senate  0238-04-22T00:53:28+00:53   \n",
       "\n",
       "                       Reign End           Cause            Killer  \\\n",
       "Index                                                                \n",
       "52     0311-05-01T00:53:28+00:53  Natural Causes           Disease   \n",
       "57     0324-09-18T00:53:28+00:53       Execution     Other Emperor   \n",
       "33     0249-10-01T00:53:28+00:53       Execution     Other Emperor   \n",
       "36     0253-08-15T00:53:28+00:53   Assassination     Other Emperor   \n",
       "31     0238-07-29T00:53:28+00:53   Assassination  Praetorian Guard   \n",
       "\n",
       "             Dynasty         Era  \\\n",
       "Index                              \n",
       "52     Constantinian    Dominate   \n",
       "57     Constantinian    Dominate   \n",
       "33           Gordian  Principate   \n",
       "36           Gordian  Principate   \n",
       "31           Gordian  Principate   \n",
       "\n",
       "                                                   Notes Verif  \\\n",
       "Index                                                            \n",
       "52                 birth, death, reign.end are estimates   NaN   \n",
       "57                      birth, death, are only estimates   NaN   \n",
       "33                            reign.end is only estimate   NaN   \n",
       "36     birth, death, reign.end, reign.start are estim...   NaN   \n",
       "31                               birth is only estimate.   NaN   \n",
       "\n",
       "                                                   Image  \n",
       "Index                                                     \n",
       "52     https://public.opendatasoft.com/api/datasets/1...  \n",
       "57     https://public.opendatasoft.com/api/datasets/1...  \n",
       "33     https://public.opendatasoft.com/api/datasets/1...  \n",
       "36     https://public.opendatasoft.com/api/datasets/1...  \n",
       "31     https://public.opendatasoft.com/api/datasets/1...  "
      ]
     },
     "execution_count": 2,
     "metadata": {},
     "output_type": "execute_result"
    }
   ],
   "source": [
    "# Сега, ще заредя данните\n",
    "romans_data = pd.read_csv('roman-emperors.csv', parse_dates=[3,4,8,9], index_col=['Index'])\n",
    "\n",
    "# Няколко императора, за пример\n",
    "romans_data[:5]"
   ]
  },
  {
   "cell_type": "markdown",
   "metadata": {},
   "source": [
    "Какво представляват данните ни? Количество, фийчъри?"
   ]
  },
  {
   "cell_type": "code",
   "execution_count": 3,
   "metadata": {},
   "outputs": [
    {
     "name": "stdout",
     "output_type": "stream",
     "text": [
      "Features Names: ['Name', 'Full Name', 'Birth', 'Death', 'Birth City', 'Birth Province', 'Succession', 'Reign Start', 'Reign End', 'Cause', 'Killer', 'Dynasty', 'Era']\n",
      "Filtered data shape: (68, 13)\n"
     ]
    }
   ],
   "source": [
    "interesting_features = [f for f in romans_data.columns if f not in ['Image', 'Verif', 'Notes']]\n",
    "print('Features Names: {}'.format(interesting_features))\n",
    "\n",
    "# Ще си филтрирам само нещата, които наистина бих използвал\n",
    "romans_data = romans_data[interesting_features]\n",
    "print('Filtered data shape: {}'.format(romans_data.shape))"
   ]
  },
  {
   "cell_type": "markdown",
   "metadata": {},
   "source": [
    "## Малко поправка на данните\n",
    "\n",
    "След ръчно разглеждане забелязвам няколко неверни неща, които ме дразнят до безкрайност и няма да мога да преглътна.\n",
    "\n",
    "_Rant ON_\n",
    "\n",
    "Изобщо не съм фен на теорията \"Лидия ги отрови\". Да, наясно съм, че това е [популярната теория](http://www.imdb.com/title/tt0074006/). Първо, бедната жена е обвиняване за отровянето на всички. Всички! След четвъртият отровен хората не биха я държали наоколо, нали? Второ, Октавиан все пак вече е бил на 75! Колко по - възрастен трябва да станеш за да се смята, че смърт след болест е естествена? На много конспиративни теористи ще им е полезен [Occam's razor](https://en.wikipedia.org/wiki/Occam%27s_razor).\n",
    "\n",
    "_Rant OFF_"
   ]
  },
  {
   "cell_type": "code",
   "execution_count": 4,
   "metadata": {},
   "outputs": [
    {
     "data": {
      "text/html": [
       "<div>\n",
       "<style>\n",
       "    .dataframe thead tr:only-child th {\n",
       "        text-align: right;\n",
       "    }\n",
       "\n",
       "    .dataframe thead th {\n",
       "        text-align: left;\n",
       "    }\n",
       "\n",
       "    .dataframe tbody tr th {\n",
       "        vertical-align: top;\n",
       "    }\n",
       "</style>\n",
       "<table border=\"1\" class=\"dataframe\">\n",
       "  <thead>\n",
       "    <tr style=\"text-align: right;\">\n",
       "      <th></th>\n",
       "      <th>Name</th>\n",
       "      <th>Killer</th>\n",
       "      <th>Cause</th>\n",
       "    </tr>\n",
       "    <tr>\n",
       "      <th>Index</th>\n",
       "      <th></th>\n",
       "      <th></th>\n",
       "      <th></th>\n",
       "    </tr>\n",
       "  </thead>\n",
       "  <tbody>\n",
       "    <tr>\n",
       "      <th>1</th>\n",
       "      <td>Augustus</td>\n",
       "      <td>Disease</td>\n",
       "      <td>Natural Causes</td>\n",
       "    </tr>\n",
       "  </tbody>\n",
       "</table>\n",
       "</div>"
      ],
      "text/plain": [
       "           Name   Killer           Cause\n",
       "Index                                   \n",
       "1      Augustus  Disease  Natural Causes"
      ]
     },
     "execution_count": 4,
     "metadata": {},
     "output_type": "execute_result"
    }
   ],
   "source": [
    "# Index 1 - Augustus\n",
    "romans_data.at[1, 'Cause'] = 'Natural Causes'\n",
    "romans_data.at[1, 'Killer'] = 'Disease'\n",
    "\n",
    "romans_data[['Name', 'Killer', 'Cause']][romans_data.Name == 'Augustus']"
   ]
  },
  {
   "cell_type": "markdown",
   "metadata": {},
   "source": [
    "Също така 63г. пр.н.е., а не 62. Кой ги е събирал тези данни и какво е имал против Август?"
   ]
  },
  {
   "cell_type": "code",
   "execution_count": 5,
   "metadata": {},
   "outputs": [
    {
     "data": {
      "text/html": [
       "<div>\n",
       "<style>\n",
       "    .dataframe thead tr:only-child th {\n",
       "        text-align: right;\n",
       "    }\n",
       "\n",
       "    .dataframe thead th {\n",
       "        text-align: left;\n",
       "    }\n",
       "\n",
       "    .dataframe tbody tr th {\n",
       "        vertical-align: top;\n",
       "    }\n",
       "</style>\n",
       "<table border=\"1\" class=\"dataframe\">\n",
       "  <thead>\n",
       "    <tr style=\"text-align: right;\">\n",
       "      <th></th>\n",
       "      <th>Birth</th>\n",
       "      <th>Death</th>\n",
       "      <th>Reign Start</th>\n",
       "      <th>Reign End</th>\n",
       "    </tr>\n",
       "    <tr>\n",
       "      <th>Index</th>\n",
       "      <th></th>\n",
       "      <th></th>\n",
       "      <th></th>\n",
       "      <th></th>\n",
       "    </tr>\n",
       "  </thead>\n",
       "  <tbody>\n",
       "    <tr>\n",
       "      <th>1</th>\n",
       "      <td>0063-09-23T00:53:28+00:53</td>\n",
       "      <td>0014-08-19T00:53:28+00:53</td>\n",
       "      <td>0027-01-16T00:53:28+00:53</td>\n",
       "      <td>0014-08-19T00:53:28+00:53</td>\n",
       "    </tr>\n",
       "  </tbody>\n",
       "</table>\n",
       "</div>"
      ],
      "text/plain": [
       "                           Birth                      Death  \\\n",
       "Index                                                         \n",
       "1      0063-09-23T00:53:28+00:53  0014-08-19T00:53:28+00:53   \n",
       "\n",
       "                     Reign Start                  Reign End  \n",
       "Index                                                        \n",
       "1      0027-01-16T00:53:28+00:53  0014-08-19T00:53:28+00:53  "
      ]
     },
     "execution_count": 5,
     "metadata": {},
     "output_type": "execute_result"
    }
   ],
   "source": [
    "romans_data.at[1, 'Birth'] = '0063-09-23T00:53:28+00:53'\n",
    "romans_data.at[1, 'Reign Start'] = '0027-01-16T00:53:28+00:53'\n",
    "\n",
    "romans_data[['Birth', 'Death', 'Reign Start', 'Reign End']][romans_data.Name == 'Augustus']"
   ]
  },
  {
   "cell_type": "markdown",
   "metadata": {},
   "source": [
    "## И сега вече да ги разгледаме по - подбробно\n",
    "\n",
    "Първо, интересно ми е къде са се раждали тез императори:"
   ]
  },
  {
   "cell_type": "code",
   "execution_count": 6,
   "metadata": {},
   "outputs": [
    {
     "name": "stdout",
     "output_type": "stream",
     "text": [
      "Different cities: 31\n"
     ]
    },
    {
     "data": {
      "text/plain": [
       "Rome                9\n",
       "Sirmium             8\n",
       "Cibalae             2\n",
       "Lanuvium            2\n",
       "Milan               2\n",
       "Lugdunum            2\n",
       "Antitum             2\n",
       "Italica             2\n",
       "Naissus             1\n",
       "Shahba              1\n",
       "Cauca               1\n",
       "Terracina           1\n",
       "Arca Caesarea       1\n",
       "Constantinople      1\n",
       "Terentinum          1\n",
       "Narni               1\n",
       "Iol Caesarea        1\n",
       "Romuliana           1\n",
       "Salona              1\n",
       "Emesa               1\n",
       "Narbo               1\n",
       "Felix Romuliana     1\n",
       "Dardania            1\n",
       "Interamna Nahars    1\n",
       "Budalia             1\n",
       "Singidunum          1\n",
       "Alba                1\n",
       "Falacrine           1\n",
       "Leptis Magna        1\n",
       "Arelate             1\n",
       "Name: Birth City, dtype: int64"
      ]
     },
     "execution_count": 6,
     "metadata": {},
     "output_type": "execute_result"
    }
   ],
   "source": [
    "birth_cities = romans_data['Birth City']\n",
    "print('Different cities: {}'.format(len(birth_cities.unique())))\n",
    "birth_cities.value_counts()"
   ]
  },
  {
   "cell_type": "markdown",
   "metadata": {},
   "source": [
    "Изглежда има голяма разнообразие на градовете, където са се раждали. Тъжното е, че твърде много са NA. Което вероятно ще направи тази колона не особено полезна.\n",
    "\n",
    "Също така, изненадващо много са родени около днешен Белград (Singidunum) - 8 в [Sirmium](https://en.wikipedia.org/wiki/Sirmium) и 1 в [Singidunum](https://en.wikipedia.org/wiki/Singidunum). Това си е интересно само по себе си :D Трябва да се отбележи, че Sirmium е бил _основният_ военен град в източната римска имеприя. Очаквано, императорите от него са тясно свързани с армията и вероятно може да има значение за бъдещият им много-вероятно-преждевременен-и-насилствен-край.\n",
    "\n",
    "И като си говорим за това, как ли са умирали тези императори? Това може да ни подскаже нещо за очакваната продължителност на управление:"
   ]
  },
  {
   "cell_type": "code",
   "execution_count": 7,
   "metadata": {},
   "outputs": [
    {
     "data": {
      "image/png": "[encoded data removed]",
      "text/plain": [
       "<matplotlib.figure.Figure at 0x10aefed68>"
      ]
     },
     "metadata": {},
     "output_type": "display_data"
    }
   ],
   "source": [
    "romans_data.Cause.value_counts().plot(kind='barh', title='Causes of Death');"
   ]
  },
  {
   "cell_type": "markdown",
   "metadata": {},
   "source": [
    "Аха! Преждевременен и насилствен край. Къде би била романтиката иначе? Но тук мога да разделя два вида смърти: 'нормални' и 'насилствени'. Насилствени са `Assasination`, `Execution` и `Suicide`. Всички останали - нормални. Слагам самоубийството като насилствена смърт т.к. никой не се самоубива без да има причина и винаги самоубилите са били поставени пред \"или го правя сам, или някой го прави за мен _много_ скоро\". Оставям `Captivity` и `Died in Battle` като \"нормални\" т.к. това си е съвсем очакван начин да умре император и не е свързан с преждевременно прекратяване на управлението му поради вътрешни причини. Има ли смисъл това? Не знам."
   ]
  },
  {
   "cell_type": "code",
   "execution_count": 8,
   "metadata": {},
   "outputs": [
    {
     "name": "stdout",
     "output_type": "stream",
     "text": [
      "Violent deaths: 37 (54.41%)\n"
     ]
    }
   ],
   "source": [
    "violent = romans_data[(romans_data.Cause == 'Assassination') | (romans_data.Cause == 'Suicide') | (romans_data.Cause == 'Execution')]\n",
    "\n",
    "print('Violent deaths: {} ({:.2f}%)'.format(len(violent), 100 * len(violent) / len(romans_data)))"
   ]
  },
  {
   "cell_type": "markdown",
   "metadata": {},
   "source": [
    "Всъщност, колко императора не са умерли в края на управленито си?"
   ]
  },
  {
   "cell_type": "code",
   "execution_count": 9,
   "metadata": {},
   "outputs": [
    {
     "data": {
      "text/html": [
       "<div>\n",
       "<style>\n",
       "    .dataframe thead tr:only-child th {\n",
       "        text-align: right;\n",
       "    }\n",
       "\n",
       "    .dataframe thead th {\n",
       "        text-align: left;\n",
       "    }\n",
       "\n",
       "    .dataframe tbody tr th {\n",
       "        vertical-align: top;\n",
       "    }\n",
       "</style>\n",
       "<table border=\"1\" class=\"dataframe\">\n",
       "  <thead>\n",
       "    <tr style=\"text-align: right;\">\n",
       "      <th></th>\n",
       "      <th>Name</th>\n",
       "      <th>Death</th>\n",
       "      <th>Reign End</th>\n",
       "      <th>Cause</th>\n",
       "      <th>Killer</th>\n",
       "    </tr>\n",
       "    <tr>\n",
       "      <th>Index</th>\n",
       "      <th></th>\n",
       "      <th></th>\n",
       "      <th></th>\n",
       "      <th></th>\n",
       "      <th></th>\n",
       "    </tr>\n",
       "  </thead>\n",
       "  <tbody>\n",
       "    <tr>\n",
       "      <th>57</th>\n",
       "      <td>Lucinius I</td>\n",
       "      <td>0325-03-01T00:53:28+00:53</td>\n",
       "      <td>0324-09-18T00:53:28+00:53</td>\n",
       "      <td>Execution</td>\n",
       "      <td>Other Emperor</td>\n",
       "    </tr>\n",
       "    <tr>\n",
       "      <th>23</th>\n",
       "      <td>Geta</td>\n",
       "      <td>0211-12-19T00:53:28+00:53</td>\n",
       "      <td>0211-12-26T00:53:28+00:53</td>\n",
       "      <td>Assassination</td>\n",
       "      <td>Other Emperor</td>\n",
       "    </tr>\n",
       "    <tr>\n",
       "      <th>49</th>\n",
       "      <td>Diocletian</td>\n",
       "      <td>0311-12-03T00:53:28+00:53</td>\n",
       "      <td>0305-05-01T00:53:28+00:53</td>\n",
       "      <td>Natural Causes</td>\n",
       "      <td>Disease</td>\n",
       "    </tr>\n",
       "    <tr>\n",
       "      <th>61</th>\n",
       "      <td>Vetranio</td>\n",
       "      <td>0356-01-01T00:53:28+00:53</td>\n",
       "      <td>0350-12-25T00:53:28+00:53</td>\n",
       "      <td>Unknown</td>\n",
       "      <td>Unknown</td>\n",
       "    </tr>\n",
       "    <tr>\n",
       "      <th>50</th>\n",
       "      <td>Maximian</td>\n",
       "      <td>0310-07-15T00:53:28+00:53</td>\n",
       "      <td>0305-05-01T00:53:28+00:53</td>\n",
       "      <td>Suicide</td>\n",
       "      <td>Other Emperor</td>\n",
       "    </tr>\n",
       "    <tr>\n",
       "      <th>38</th>\n",
       "      <td>Valerian</td>\n",
       "      <td>0264-01-01T00:53:28+00:53</td>\n",
       "      <td>0260-01-01T00:53:28+00:53</td>\n",
       "      <td>Captivity</td>\n",
       "      <td>Opposing Army</td>\n",
       "    </tr>\n",
       "  </tbody>\n",
       "</table>\n",
       "</div>"
      ],
      "text/plain": [
       "             Name                      Death                  Reign End  \\\n",
       "Index                                                                     \n",
       "57     Lucinius I  0325-03-01T00:53:28+00:53  0324-09-18T00:53:28+00:53   \n",
       "23           Geta  0211-12-19T00:53:28+00:53  0211-12-26T00:53:28+00:53   \n",
       "49     Diocletian  0311-12-03T00:53:28+00:53  0305-05-01T00:53:28+00:53   \n",
       "61       Vetranio  0356-01-01T00:53:28+00:53  0350-12-25T00:53:28+00:53   \n",
       "50       Maximian  0310-07-15T00:53:28+00:53  0305-05-01T00:53:28+00:53   \n",
       "38       Valerian  0264-01-01T00:53:28+00:53  0260-01-01T00:53:28+00:53   \n",
       "\n",
       "                Cause         Killer  \n",
       "Index                                 \n",
       "57          Execution  Other Emperor  \n",
       "23      Assassination  Other Emperor  \n",
       "49     Natural Causes        Disease  \n",
       "61            Unknown        Unknown  \n",
       "50            Suicide  Other Emperor  \n",
       "38          Captivity  Opposing Army  "
      ]
     },
     "execution_count": 9,
     "metadata": {},
     "output_type": "execute_result"
    }
   ],
   "source": [
    "romans_data[romans_data['Reign End'] != romans_data['Death']][['Name', 'Death', 'Reign End', 'Cause', 'Killer']]"
   ]
  },
  {
   "cell_type": "markdown",
   "metadata": {},
   "source": [
    "Интересно, Гета е успял да управлява цяла седмица след като е умрял. Браво на него! Възможноста за зомби-император е интригуваща, но малко вероятно. Според мен по - скоро трябва да го броим като умрял в края на управлението си. Втори опит:"
   ]
  },
  {
   "cell_type": "code",
   "execution_count": 10,
   "metadata": {},
   "outputs": [
    {
     "data": {
      "text/html": [
       "<div>\n",
       "<style>\n",
       "    .dataframe thead tr:only-child th {\n",
       "        text-align: right;\n",
       "    }\n",
       "\n",
       "    .dataframe thead th {\n",
       "        text-align: left;\n",
       "    }\n",
       "\n",
       "    .dataframe tbody tr th {\n",
       "        vertical-align: top;\n",
       "    }\n",
       "</style>\n",
       "<table border=\"1\" class=\"dataframe\">\n",
       "  <thead>\n",
       "    <tr style=\"text-align: right;\">\n",
       "      <th></th>\n",
       "      <th>Name</th>\n",
       "      <th>Death</th>\n",
       "      <th>Reign End</th>\n",
       "      <th>Cause</th>\n",
       "      <th>Killer</th>\n",
       "    </tr>\n",
       "    <tr>\n",
       "      <th>Index</th>\n",
       "      <th></th>\n",
       "      <th></th>\n",
       "      <th></th>\n",
       "      <th></th>\n",
       "      <th></th>\n",
       "    </tr>\n",
       "  </thead>\n",
       "  <tbody>\n",
       "    <tr>\n",
       "      <th>57</th>\n",
       "      <td>Lucinius I</td>\n",
       "      <td>0325-03-01T00:53:28+00:53</td>\n",
       "      <td>0324-09-18T00:53:28+00:53</td>\n",
       "      <td>Execution</td>\n",
       "      <td>Other Emperor</td>\n",
       "    </tr>\n",
       "    <tr>\n",
       "      <th>49</th>\n",
       "      <td>Diocletian</td>\n",
       "      <td>0311-12-03T00:53:28+00:53</td>\n",
       "      <td>0305-05-01T00:53:28+00:53</td>\n",
       "      <td>Natural Causes</td>\n",
       "      <td>Disease</td>\n",
       "    </tr>\n",
       "    <tr>\n",
       "      <th>61</th>\n",
       "      <td>Vetranio</td>\n",
       "      <td>0356-01-01T00:53:28+00:53</td>\n",
       "      <td>0350-12-25T00:53:28+00:53</td>\n",
       "      <td>Unknown</td>\n",
       "      <td>Unknown</td>\n",
       "    </tr>\n",
       "    <tr>\n",
       "      <th>50</th>\n",
       "      <td>Maximian</td>\n",
       "      <td>0310-07-15T00:53:28+00:53</td>\n",
       "      <td>0305-05-01T00:53:28+00:53</td>\n",
       "      <td>Suicide</td>\n",
       "      <td>Other Emperor</td>\n",
       "    </tr>\n",
       "    <tr>\n",
       "      <th>38</th>\n",
       "      <td>Valerian</td>\n",
       "      <td>0264-01-01T00:53:28+00:53</td>\n",
       "      <td>0260-01-01T00:53:28+00:53</td>\n",
       "      <td>Captivity</td>\n",
       "      <td>Opposing Army</td>\n",
       "    </tr>\n",
       "  </tbody>\n",
       "</table>\n",
       "</div>"
      ],
      "text/plain": [
       "             Name                      Death                  Reign End  \\\n",
       "Index                                                                     \n",
       "57     Lucinius I  0325-03-01T00:53:28+00:53  0324-09-18T00:53:28+00:53   \n",
       "49     Diocletian  0311-12-03T00:53:28+00:53  0305-05-01T00:53:28+00:53   \n",
       "61       Vetranio  0356-01-01T00:53:28+00:53  0350-12-25T00:53:28+00:53   \n",
       "50       Maximian  0310-07-15T00:53:28+00:53  0305-05-01T00:53:28+00:53   \n",
       "38       Valerian  0264-01-01T00:53:28+00:53  0260-01-01T00:53:28+00:53   \n",
       "\n",
       "                Cause         Killer  \n",
       "Index                                 \n",
       "57          Execution  Other Emperor  \n",
       "49     Natural Causes        Disease  \n",
       "61            Unknown        Unknown  \n",
       "50            Suicide  Other Emperor  \n",
       "38          Captivity  Opposing Army  "
      ]
     },
     "execution_count": 10,
     "metadata": {},
     "output_type": "execute_result"
    }
   ],
   "source": [
    "romans_data[romans_data['Reign End'] < romans_data['Death']][['Name', 'Death', 'Reign End', 'Cause', 'Killer']]"
   ]
  },
  {
   "cell_type": "markdown",
   "metadata": {},
   "source": [
    "Вече е по - добре. Браво Деоклициан, [зелките](http://forumromanum.org/literature/victor_ep.html#39) са по - яки от насилствена смърт при всички положения :D"
   ]
  },
  {
   "cell_type": "markdown",
   "metadata": {},
   "source": [
    "Да разгледаме дистрибуцията на продължителност на управление. Но първо, сещам се че Август (отново той!) е роден и управлява преди новата ера, но датите в data set-а изглеждат все едно е управлявал от 26та до 14та година. Като изключим машина на времето остава варианта просто data set-а да не може да представя дати от преди новата ера заради не добре подбраният стандарт за дати. Ще трябва да се справим с това.\n",
    "\n",
    "Интересно е и как всички важни събития в този период са се случвали в 00:53:28. Ides of March паста да яде! Ако бях император, определено щях много да внимавам около това време. Може би да се заключвам в добре окрепена стая, на щрек и въоръжен?\n",
    "\n",
    "Супер извратената часова зона няма да я коментирам."
   ]
  },
  {
   "cell_type": "code",
   "execution_count": 11,
   "metadata": {},
   "outputs": [
    {
     "data": {
      "text/plain": [
       "str"
      ]
     },
     "execution_count": 11,
     "metadata": {},
     "output_type": "execute_result"
    }
   ],
   "source": [
    "type(romans_data.at[1, 'Death'])"
   ]
  },
  {
   "cell_type": "markdown",
   "metadata": {},
   "source": [
    "Ахъм! Датите ни все още са низове. Ще трябва да се направи нещо и за това. Какво ли му е на `parse_dates` на [read_csv](http://pandas.pydata.org/pandas-docs/stable/generated/pandas.read_csv.html#pandas.read_csv)?"
   ]
  },
  {
   "cell_type": "code",
   "execution_count": 12,
   "metadata": {},
   "outputs": [],
   "source": [
    "from dateutil import parser\n",
    "from datetime import datetime\n",
    "\n",
    "date_fields = ['Reign Start', 'Reign End', 'Birth', 'Death']\n",
    "\n",
    "def parse_date(val):\n",
    "    if isinstance(val, datetime):\n",
    "        return val\n",
    "    if val is np.nan or val == '' or val is None or val == 'nan':\n",
    "        return np.nan\n",
    "    try:\n",
    "        return parser.parse(val)\n",
    "    except:\n",
    "        return np.nan\n",
    "\n",
    "for date_field in date_fields:\n",
    "    romans_data[date_field] = romans_data[date_field].map(parse_date)"
   ]
  },
  {
   "cell_type": "markdown",
   "metadata": {},
   "source": [
    "Сега, като всичко вече е истински дати е време да направим нещата с епохите по правилният начин. Някак си неудобно е да се занимавам с отрицателни числа. За тази цел ще преместа календара да започва от раждането на... (_барабани_...) Август! Така и така това си е доста по - изискано от календар с начало раждането на анонимен еврейски дърворезбар в Сирия. При това леко не с всичкия си и доста религиозен. Друго си е _истинско_ божество като Август, нали така? Това, че всички сметки стават много по - прости е само страничен ефект, честно."
   ]
  },
  {
   "cell_type": "code",
   "execution_count": 13,
   "metadata": {},
   "outputs": [
    {
     "data": {
      "text/html": [
       "<div>\n",
       "<style>\n",
       "    .dataframe thead tr:only-child th {\n",
       "        text-align: right;\n",
       "    }\n",
       "\n",
       "    .dataframe thead th {\n",
       "        text-align: left;\n",
       "    }\n",
       "\n",
       "    .dataframe tbody tr th {\n",
       "        vertical-align: top;\n",
       "    }\n",
       "</style>\n",
       "<table border=\"1\" class=\"dataframe\">\n",
       "  <thead>\n",
       "    <tr style=\"text-align: right;\">\n",
       "      <th></th>\n",
       "      <th>Reign Start</th>\n",
       "      <th>Reign End</th>\n",
       "      <th>Birth</th>\n",
       "      <th>Death</th>\n",
       "    </tr>\n",
       "    <tr>\n",
       "      <th>Index</th>\n",
       "      <th></th>\n",
       "      <th></th>\n",
       "      <th></th>\n",
       "      <th></th>\n",
       "    </tr>\n",
       "  </thead>\n",
       "  <tbody>\n",
       "    <tr>\n",
       "      <th>1</th>\n",
       "      <td>0035-09-09 00:00:00+00:53</td>\n",
       "      <td>0075-05-11 01:46:56+00:53</td>\n",
       "      <td>0001-01-01 00:00:00+00:53</td>\n",
       "      <td>0075-05-11 01:46:56+00:53</td>\n",
       "    </tr>\n",
       "  </tbody>\n",
       "</table>\n",
       "</div>"
      ],
      "text/plain": [
       "                     Reign Start                  Reign End  \\\n",
       "Index                                                         \n",
       "1      0035-09-09 00:00:00+00:53  0075-05-11 01:46:56+00:53   \n",
       "\n",
       "                           Birth                      Death  \n",
       "Index                                                        \n",
       "1      0001-01-01 00:00:00+00:53  0075-05-11 01:46:56+00:53  "
      ]
     },
     "execution_count": 13,
     "metadata": {},
     "output_type": "execute_result"
    }
   ],
   "source": [
    "from datetime import timedelta\n",
    "\n",
    "christ_epoch = parser.parse('0001-01-01T00:00:00+00:53')\n",
    "\n",
    "td = (romans_data.at[1, 'Birth'] - christ_epoch) - 2 * timedelta(days=365)\n",
    "reign_age = romans_data.at[1, 'Birth'] - romans_data.at[1, 'Reign Start']\n",
    "augustus_dates = romans_data[romans_data.Name == 'Augustus'][date_fields]\n",
    "\n",
    "def redefine_calendar(val):\n",
    "    if val is np.nan or val == np.nan:\n",
    "        return val\n",
    "    return val + td\n",
    "\n",
    "# Преместваме датите на всички, така че нулева година да е раждането на Август\n",
    "for date_field in date_fields:\n",
    "    romans_data[date_field] = romans_data[date_field].map(redefine_calendar)\n",
    "\n",
    "# Поправяме датите на самият Augustus\n",
    "romans_data.at[1, 'Birth'] = christ_epoch\n",
    "romans_data.at[1, 'Reign Start'] = christ_epoch + reign_age - 2 * timedelta(days=365)\n",
    "\n",
    "romans_data[romans_data.Name == 'Augustus'][date_fields]"
   ]
  },
  {
   "cell_type": "markdown",
   "metadata": {},
   "source": [
    "Wow, това беше трудно! http://www.biblestudentarchives.com/documents/CalculatingBC-AD.pdf\n",
    "\n",
    "Нека сега разгледаме по колко време са управлявали императорите."
   ]
  },
  {
   "cell_type": "code",
   "execution_count": 14,
   "metadata": {},
   "outputs": [
    {
     "data": {
      "image/png": "[encoded data removed]",
      "text/plain": [
       "<matplotlib.figure.Figure at 0x10af8f390>"
      ]
     },
     "metadata": {},
     "output_type": "display_data"
    }
   ],
   "source": [
    "import seaborn as sns\n",
    "\n",
    "romans_data['DaysInPower'] = (romans_data['Reign End'] - romans_data['Reign Start']).map(lambda x: x.days)\n",
    "\n",
    "sns.distplot(romans_data.DaysInPower);"
   ]
  },
  {
   "cell_type": "markdown",
   "metadata": {},
   "source": [
    "Добре, тази картинка показва \"скорошен\" край, за да допълни преждевременен и насилствен от последната. Лошото е, че разпределението не ми подсказва нищо особено."
   ]
  },
  {
   "cell_type": "markdown",
   "metadata": {},
   "source": [
    "### Възраст на \"изкачване\" на трона\n",
    "\n",
    "Звучи съвсем логично, че императорите-деца имат значително по - висок шанс за любимата ни вече внезапна-и-насилствена-смърт. Не бих заложил и на старците да се задържат. Гадна работа. По тази причина си мисля, че колона \"възраст на изкачване\" ще е полезна."
   ]
  },
  {
   "cell_type": "code",
   "execution_count": 15,
   "metadata": {},
   "outputs": [
    {
     "name": "stdout",
     "output_type": "stream",
     "text": [
      "MUCH ERROR! So exception <class 'ValueError'>: cannot convert float NaN to integer\n"
     ]
    },
    {
     "data": {
      "image/png": "[encoded data removed]",
      "text/plain": [
       "<matplotlib.figure.Figure at 0x10b9749e8>"
      ]
     },
     "metadata": {},
     "output_type": "display_data"
    }
   ],
   "source": [
    "try:\n",
    "    sns.distplot((romans_data['Reign Start'] - romans_data['Birth']).map(lambda x: x.days / 365));\n",
    "except ValueError as e:\n",
    "    print(\"MUCH ERROR! So exception {}: {}\".format(type(e), e))"
   ]
  },
  {
   "cell_type": "markdown",
   "metadata": {},
   "source": [
    "Ох, явно за някои не знам кога са родени. Тъжна работа! Ще трябва да си измислим дати. Бих предположил, че е добре да предположим, че са станали императори на някакво подобно време, като остналите. И от \"започване на управлениет\" да изчислим нашата измислена дата на раждане."
   ]
  },
  {
   "cell_type": "code",
   "execution_count": 16,
   "metadata": {},
   "outputs": [
    {
     "data": {
      "text/plain": [
       "count    63.000000\n",
       "mean     39.438704\n",
       "std      19.485719\n",
       "min     -27.180822\n",
       "25%      28.713699\n",
       "50%      40.147945\n",
       "75%      54.360274\n",
       "max      79.271233\n",
       "Name: AgeOfSuccession, dtype: float64"
      ]
     },
     "execution_count": 16,
     "metadata": {},
     "output_type": "execute_result"
    }
   ],
   "source": [
    "romans_data['AgeOfSuccession'] = (romans_data['Reign Start'] - romans_data['Birth']).map(lambda x: x.days / 365)\n",
    "\n",
    "romans_data['AgeOfSuccession'].describe()"
   ]
  },
  {
   "cell_type": "code",
   "execution_count": 17,
   "metadata": {},
   "outputs": [
    {
     "data": {
      "image/png": "[encoded data removed]",
      "text/plain": [
       "<matplotlib.figure.Figure at 0x10af94d30>"
      ]
     },
     "metadata": {},
     "output_type": "display_data"
    }
   ],
   "source": [
    "sns.distplot(romans_data['AgeOfSuccession'].fillna(romans_data['AgeOfSuccession'].mean()));"
   ]
  },
  {
   "cell_type": "markdown",
   "metadata": {},
   "source": [
    "WTF? Някой е станал император на -27!?"
   ]
  },
  {
   "cell_type": "code",
   "execution_count": 18,
   "metadata": {},
   "outputs": [
    {
     "data": {
      "text/html": [
       "<div>\n",
       "<style>\n",
       "    .dataframe thead tr:only-child th {\n",
       "        text-align: right;\n",
       "    }\n",
       "\n",
       "    .dataframe thead th {\n",
       "        text-align: left;\n",
       "    }\n",
       "\n",
       "    .dataframe tbody tr th {\n",
       "        vertical-align: top;\n",
       "    }\n",
       "</style>\n",
       "<table border=\"1\" class=\"dataframe\">\n",
       "  <thead>\n",
       "    <tr style=\"text-align: right;\">\n",
       "      <th></th>\n",
       "      <th>Name</th>\n",
       "      <th>Reign Start</th>\n",
       "      <th>Reign End</th>\n",
       "      <th>Birth</th>\n",
       "      <th>Death</th>\n",
       "    </tr>\n",
       "    <tr>\n",
       "      <th>Index</th>\n",
       "      <th></th>\n",
       "      <th></th>\n",
       "      <th></th>\n",
       "      <th></th>\n",
       "      <th></th>\n",
       "    </tr>\n",
       "  </thead>\n",
       "  <tbody>\n",
       "    <tr>\n",
       "      <th>2</th>\n",
       "      <td>Tiberius</td>\n",
       "      <td>0075-06-10 01:46:56+00:53</td>\n",
       "      <td>0097-12-06 01:46:56+00:53</td>\n",
       "      <td>0102-08-09 01:46:56+00:53</td>\n",
       "      <td>0097-12-06 01:46:56+00:53</td>\n",
       "    </tr>\n",
       "  </tbody>\n",
       "</table>\n",
       "</div>"
      ],
      "text/plain": [
       "           Name                Reign Start                  Reign End  \\\n",
       "Index                                                                   \n",
       "2      Tiberius  0075-06-10 01:46:56+00:53  0097-12-06 01:46:56+00:53   \n",
       "\n",
       "                           Birth                      Death  \n",
       "Index                                                        \n",
       "2      0102-08-09 01:46:56+00:53  0097-12-06 01:46:56+00:53  "
      ]
     },
     "execution_count": 18,
     "metadata": {},
     "output_type": "execute_result"
    }
   ],
   "source": [
    "romans_data[['Name'] + date_fields][romans_data.AgeOfSuccession < 0]"
   ]
  },
  {
   "cell_type": "markdown",
   "metadata": {},
   "source": [
    "Хм, това е от промяната на епохата. Не съм се сетил, че и други освен Август може да са родени преди новата ера. Дали съм потроиш данните безвъзвратно?"
   ]
  },
  {
   "cell_type": "code",
   "execution_count": 19,
   "metadata": {},
   "outputs": [
    {
     "data": {
      "text/html": [
       "<div>\n",
       "<style>\n",
       "    .dataframe thead tr:only-child th {\n",
       "        text-align: right;\n",
       "    }\n",
       "\n",
       "    .dataframe thead th {\n",
       "        text-align: left;\n",
       "    }\n",
       "\n",
       "    .dataframe tbody tr th {\n",
       "        vertical-align: top;\n",
       "    }\n",
       "</style>\n",
       "<table border=\"1\" class=\"dataframe\">\n",
       "  <thead>\n",
       "    <tr style=\"text-align: right;\">\n",
       "      <th></th>\n",
       "      <th>Name</th>\n",
       "      <th>Reign Start</th>\n",
       "      <th>Reign End</th>\n",
       "      <th>Birth</th>\n",
       "      <th>Death</th>\n",
       "    </tr>\n",
       "    <tr>\n",
       "      <th>Index</th>\n",
       "      <th></th>\n",
       "      <th></th>\n",
       "      <th></th>\n",
       "      <th></th>\n",
       "      <th></th>\n",
       "    </tr>\n",
       "  </thead>\n",
       "  <tbody>\n",
       "    <tr>\n",
       "      <th>4</th>\n",
       "      <td>Claudius</td>\n",
       "      <td>0101-10-18 01:46:56+00:53</td>\n",
       "      <td>0115-07-06 01:46:56+00:53</td>\n",
       "      <td>0070-04-23 01:46:56+00:53</td>\n",
       "      <td>0115-07-06 01:46:56+00:53</td>\n",
       "    </tr>\n",
       "  </tbody>\n",
       "</table>\n",
       "</div>"
      ],
      "text/plain": [
       "           Name                Reign Start                  Reign End  \\\n",
       "Index                                                                   \n",
       "4      Claudius  0101-10-18 01:46:56+00:53  0115-07-06 01:46:56+00:53   \n",
       "\n",
       "                           Birth                      Death  \n",
       "Index                                                        \n",
       "4      0070-04-23 01:46:56+00:53  0115-07-06 01:46:56+00:53  "
      ]
     },
     "execution_count": 19,
     "metadata": {},
     "output_type": "execute_result"
    }
   ],
   "source": [
    "# Сигурен съм, че и Клавдий е роден пр.н.е.\n",
    "romans_data[['Name'] + date_fields][romans_data.Name == 'Claudius']"
   ]
  },
  {
   "cell_type": "code",
   "execution_count": 20,
   "metadata": {},
   "outputs": [
    {
     "data": {
      "text/html": [
       "<div>\n",
       "<style>\n",
       "    .dataframe thead tr:only-child th {\n",
       "        text-align: right;\n",
       "    }\n",
       "\n",
       "    .dataframe thead th {\n",
       "        text-align: left;\n",
       "    }\n",
       "\n",
       "    .dataframe tbody tr th {\n",
       "        vertical-align: top;\n",
       "    }\n",
       "</style>\n",
       "<table border=\"1\" class=\"dataframe\">\n",
       "  <thead>\n",
       "    <tr style=\"text-align: right;\">\n",
       "      <th></th>\n",
       "      <th>Name</th>\n",
       "      <th>Reign Start</th>\n",
       "      <th>Reign End</th>\n",
       "      <th>Birth</th>\n",
       "      <th>Death</th>\n",
       "    </tr>\n",
       "    <tr>\n",
       "      <th>Index</th>\n",
       "      <th></th>\n",
       "      <th></th>\n",
       "      <th></th>\n",
       "      <th></th>\n",
       "      <th></th>\n",
       "    </tr>\n",
       "  </thead>\n",
       "  <tbody>\n",
       "    <tr>\n",
       "      <th>4</th>\n",
       "      <td>Claudius</td>\n",
       "      <td>0101-10-18 01:46:56+00:53</td>\n",
       "      <td>0115-07-06 01:46:56+00:53</td>\n",
       "      <td>0052-02-24 00:05:00+00:53</td>\n",
       "      <td>0115-07-06 01:46:56+00:53</td>\n",
       "    </tr>\n",
       "  </tbody>\n",
       "</table>\n",
       "</div>"
      ],
      "text/plain": [
       "           Name                Reign Start                  Reign End  \\\n",
       "Index                                                                   \n",
       "4      Claudius  0101-10-18 01:46:56+00:53  0115-07-06 01:46:56+00:53   \n",
       "\n",
       "                           Birth                      Death  \n",
       "Index                                                        \n",
       "4      0052-02-24 00:05:00+00:53  0115-07-06 01:46:56+00:53  "
      ]
     },
     "execution_count": 20,
     "metadata": {},
     "output_type": "execute_result"
    }
   ],
   "source": [
    "augustus_birth_ad = parser.parse('0063-09-23T00:53:28+00:53')\n",
    "\n",
    "# Да се върнем в начално състояние\n",
    "romans_data.at[2, 'Birth'] = christ_epoch + (augustus_birth_ad - parser.parse('0042-11-16T00:53:28+00:58')) - 2 * timedelta(days=365)\n",
    "romans_data.at[4, 'Birth'] = christ_epoch + (augustus_birth_ad - parser.parse('0010-08-01T00:53:28+00:58')) - 2 * timedelta(days=365)\n",
    "\n",
    "romans_data[['Name'] + date_fields][romans_data.Name == 'Claudius']"
   ]
  },
  {
   "cell_type": "markdown",
   "metadata": {},
   "source": [
    "Накрая ще стана доста добър с тези BC-AD сметки хахаха. Сега, да опитаме отново!"
   ]
  },
  {
   "cell_type": "code",
   "execution_count": 21,
   "metadata": {},
   "outputs": [
    {
     "data": {
      "text/plain": [
       "count    63.000000\n",
       "mean     41.041487\n",
       "std      17.618187\n",
       "min       4.879452\n",
       "25%      29.347945\n",
       "50%      41.572603\n",
       "75%      55.254795\n",
       "max      79.271233\n",
       "Name: AgeOfSuccession, dtype: float64"
      ]
     },
     "execution_count": 21,
     "metadata": {},
     "output_type": "execute_result"
    }
   ],
   "source": [
    "romans_data['AgeOfSuccession'] = (romans_data['Reign Start'] - romans_data['Birth']).map(lambda x: x.days / 365)\n",
    "\n",
    "romans_data['AgeOfSuccession'].describe()"
   ]
  },
  {
   "cell_type": "code",
   "execution_count": 22,
   "metadata": {},
   "outputs": [
    {
     "data": {
      "image/png": "[encoded data removed]",
      "text/plain": [
       "<matplotlib.figure.Figure at 0x10baacc88>"
      ]
     },
     "metadata": {},
     "output_type": "display_data"
    }
   ],
   "source": [
    "sns.distplot(romans_data['AgeOfSuccession'].fillna(romans_data['AgeOfSuccession'].mean()));"
   ]
  },
  {
   "cell_type": "code",
   "execution_count": 23,
   "metadata": {},
   "outputs": [],
   "source": [
    "# Така, вече може да си запазим тази колона. Изглежда вче няма странни неща.\n",
    "romans_data.AgeOfSuccession = romans_data.AgeOfSuccession.fillna(romans_data.AgeOfSuccession.mean())"
   ]
  },
  {
   "cell_type": "markdown",
   "metadata": {},
   "source": [
    "Добре, това прилича вече на нещо разумно. Сега, предполагам, че е много вероятно да има връзка между възраста на изкачване на трона и продължителността на управлението."
   ]
  },
  {
   "cell_type": "code",
   "execution_count": 24,
   "metadata": {},
   "outputs": [
    {
     "data": {
      "image/png": "[encoded data removed]",
      "text/plain": [
       "<matplotlib.figure.Figure at 0x10bad5a58>"
      ]
     },
     "metadata": {},
     "output_type": "display_data"
    }
   ],
   "source": [
    "plt.close()\n",
    "\n",
    "plt.scatter(romans_data.AgeOfSuccession, romans_data.DaysInPower)\n",
    "plt.gca().set_xlim(0, 85)\n",
    "plt.gca().set_ylim(0, 15000)\n",
    "plt.gca().set_xlabel('Age Of Succession')\n",
    "plt.gca().set_ylabel('Days in Power');"
   ]
  },
  {
   "cell_type": "markdown",
   "metadata": {},
   "source": [
    "Ба! Никаква връзка, няма да е толкова лесно :( Значи ще трябва да се надяваме регресията да намери някакъв смисъл сред останалите данни."
   ]
  },
  {
   "cell_type": "code",
   "execution_count": 25,
   "metadata": {},
   "outputs": [
    {
     "data": {
      "text/html": [
       "<div>\n",
       "<style>\n",
       "    .dataframe thead tr:only-child th {\n",
       "        text-align: right;\n",
       "    }\n",
       "\n",
       "    .dataframe thead th {\n",
       "        text-align: left;\n",
       "    }\n",
       "\n",
       "    .dataframe tbody tr th {\n",
       "        vertical-align: top;\n",
       "    }\n",
       "</style>\n",
       "<table border=\"1\" class=\"dataframe\">\n",
       "  <thead>\n",
       "    <tr style=\"text-align: right;\">\n",
       "      <th></th>\n",
       "      <th>Birth City</th>\n",
       "      <th>Birth Province</th>\n",
       "      <th>Cause</th>\n",
       "      <th>Dynasty</th>\n",
       "      <th>Era</th>\n",
       "      <th>Killer</th>\n",
       "      <th>Succession</th>\n",
       "    </tr>\n",
       "    <tr>\n",
       "      <th>Index</th>\n",
       "      <th></th>\n",
       "      <th></th>\n",
       "      <th></th>\n",
       "      <th></th>\n",
       "      <th></th>\n",
       "      <th></th>\n",
       "      <th></th>\n",
       "    </tr>\n",
       "  </thead>\n",
       "  <tbody>\n",
       "    <tr>\n",
       "      <th>52</th>\n",
       "      <td>24</td>\n",
       "      <td>11</td>\n",
       "      <td>4</td>\n",
       "      <td>0</td>\n",
       "      <td>0</td>\n",
       "      <td>2</td>\n",
       "      <td>1</td>\n",
       "    </tr>\n",
       "    <tr>\n",
       "      <th>57</th>\n",
       "      <td>12</td>\n",
       "      <td>11</td>\n",
       "      <td>3</td>\n",
       "      <td>0</td>\n",
       "      <td>0</td>\n",
       "      <td>7</td>\n",
       "      <td>4</td>\n",
       "    </tr>\n",
       "    <tr>\n",
       "      <th>33</th>\n",
       "      <td>26</td>\n",
       "      <td>15</td>\n",
       "      <td>3</td>\n",
       "      <td>2</td>\n",
       "      <td>1</td>\n",
       "      <td>7</td>\n",
       "      <td>7</td>\n",
       "    </tr>\n",
       "    <tr>\n",
       "      <th>36</th>\n",
       "      <td>0</td>\n",
       "      <td>7</td>\n",
       "      <td>0</td>\n",
       "      <td>2</td>\n",
       "      <td>1</td>\n",
       "      <td>7</td>\n",
       "      <td>0</td>\n",
       "    </tr>\n",
       "    <tr>\n",
       "      <th>31</th>\n",
       "      <td>0</td>\n",
       "      <td>17</td>\n",
       "      <td>0</td>\n",
       "      <td>2</td>\n",
       "      <td>1</td>\n",
       "      <td>9</td>\n",
       "      <td>3</td>\n",
       "    </tr>\n",
       "    <tr>\n",
       "      <th>42</th>\n",
       "      <td>28</td>\n",
       "      <td>12</td>\n",
       "      <td>0</td>\n",
       "      <td>2</td>\n",
       "      <td>1</td>\n",
       "      <td>9</td>\n",
       "      <td>0</td>\n",
       "    </tr>\n",
       "    <tr>\n",
       "      <th>47</th>\n",
       "      <td>0</td>\n",
       "      <td>17</td>\n",
       "      <td>6</td>\n",
       "      <td>2</td>\n",
       "      <td>1</td>\n",
       "      <td>11</td>\n",
       "      <td>4</td>\n",
       "    </tr>\n",
       "    <tr>\n",
       "      <th>48</th>\n",
       "      <td>0</td>\n",
       "      <td>17</td>\n",
       "      <td>2</td>\n",
       "      <td>2</td>\n",
       "      <td>1</td>\n",
       "      <td>6</td>\n",
       "      <td>4</td>\n",
       "    </tr>\n",
       "    <tr>\n",
       "      <th>2</th>\n",
       "      <td>23</td>\n",
       "      <td>7</td>\n",
       "      <td>0</td>\n",
       "      <td>3</td>\n",
       "      <td>1</td>\n",
       "      <td>7</td>\n",
       "      <td>4</td>\n",
       "    </tr>\n",
       "    <tr>\n",
       "      <th>6</th>\n",
       "      <td>30</td>\n",
       "      <td>7</td>\n",
       "      <td>0</td>\n",
       "      <td>1</td>\n",
       "      <td>1</td>\n",
       "      <td>7</td>\n",
       "      <td>7</td>\n",
       "    </tr>\n",
       "  </tbody>\n",
       "</table>\n",
       "</div>"
      ],
      "text/plain": [
       "       Birth City  Birth Province  Cause  Dynasty  Era  Killer  Succession\n",
       "Index                                                                     \n",
       "52             24              11      4        0    0       2           1\n",
       "57             12              11      3        0    0       7           4\n",
       "33             26              15      3        2    1       7           7\n",
       "36              0               7      0        2    1       7           0\n",
       "31              0              17      0        2    1       9           3\n",
       "42             28              12      0        2    1       9           0\n",
       "47              0              17      6        2    1      11           4\n",
       "48              0              17      2        2    1       6           4\n",
       "2              23               7      0        3    1       7           4\n",
       "6              30               7      0        1    1       7           7"
      ]
     },
     "execution_count": 25,
     "metadata": {},
     "output_type": "execute_result"
    }
   ],
   "source": [
    "# Удобно, от лекция 4 :D\n",
    "\n",
    "from sklearn.preprocessing import OneHotEncoder, LabelEncoder\n",
    "\n",
    "encoding_columns = ['Birth City', 'Birth Province', 'Succession', 'Cause', 'Killer', 'Dynasty', 'Era']\n",
    "\n",
    "romans_nona = romans_data.fillna(\"\")\n",
    "romans_encoders = {col: LabelEncoder().fit(romans_nona[col]) for col in encoding_columns}\n",
    "\n",
    "def encode_categorical(data, columns, encoders):\n",
    "    return pd.DataFrame({col: encoders[col].transform(data[col]) for col in columns},\n",
    "                        index = data.index)\n",
    "\n",
    "romans_encoded = encode_categorical(romans_nona, encoding_columns, romans_encoders)\n",
    "\n",
    "romans_encoded.head(10)"
   ]
  },
  {
   "cell_type": "code",
   "execution_count": 26,
   "metadata": {},
   "outputs": [
    {
     "data": {
      "text/plain": [
       "(68, 89)"
      ]
     },
     "execution_count": 26,
     "metadata": {},
     "output_type": "execute_result"
    }
   ],
   "source": [
    "# Сега е време да направим огромната таблица!\n",
    "\n",
    "one_hot_encoder = OneHotEncoder().fit(romans_encoded)\n",
    "romans_sparse = one_hot_encoder.transform(romans_encoded)\n",
    "romans_full = pd.np.concatenate([romans_sparse.todense(), romans_data[['AgeOfSuccession']]], axis=1)\n",
    "\n",
    "romans_full.shape"
   ]
  },
  {
   "cell_type": "markdown",
   "metadata": {},
   "source": [
    "Разделяме си данните на няколко множества за трениране и тестване"
   ]
  },
  {
   "cell_type": "code",
   "execution_count": 27,
   "metadata": {},
   "outputs": [],
   "source": [
    "from sklearn.model_selection import train_test_split\n",
    "\n",
    "romans_days_in_power = romans_data.DaysInPower\n",
    "\n",
    "x_train, x_test, y_train, y_test = train_test_split(romans_full, \n",
    "                                                    romans_days_in_power, \n",
    "                                                    test_size=0.3, \n",
    "                                                    random_state=42)"
   ]
  },
  {
   "cell_type": "markdown",
   "metadata": {},
   "source": [
    "Време е за тъпа линейна регресия. Какво ще стане като имаме толкова повече feature-и от колкото данни, чудя се."
   ]
  },
  {
   "cell_type": "code",
   "execution_count": 28,
   "metadata": {},
   "outputs": [
    {
     "name": "stdout",
     "output_type": "stream",
     "text": [
      "Train set score: 1.0\n",
      "Test set score: -5.122007855330234\n"
     ]
    },
    {
     "name": "stderr",
     "output_type": "stream",
     "text": [
      "/Users/iron4o/py-virt-env/py3/lib/python3.5/site-packages/scipy/linalg/basic.py:1018: RuntimeWarning: internal gelsd driver lwork query error, required iwork dimension not returned. This is likely the result of LAPACK bug 0038, fixed in LAPACK 3.2.2 (released July 21, 2010). Falling back to 'gelss' driver.\n",
      "  warnings.warn(mesg, RuntimeWarning)\n"
     ]
    }
   ],
   "source": [
    "from sklearn.linear_model import LinearRegression\n",
    "\n",
    "regressor = LinearRegression()\n",
    "regressor.fit(x_train, y_train)\n",
    "\n",
    "print('Train set score: {}'.format(regressor.score(x_train, y_train)))\n",
    "print('Test set score: {}'.format(regressor.score(x_test, y_test)))"
   ]
  },
  {
   "cell_type": "markdown",
   "metadata": {},
   "source": [
    "Алелуя! Научило ги е на изуст. Как е възможно това за линейна регресия? A -5 е... не особено полезн модел. Освен да опитаме на ново с по - малко фийчъри. Да кажем, че града в който е роден човек и провинцията, в която е роден не ни се виждат много важни."
   ]
  },
  {
   "cell_type": "code",
   "execution_count": 29,
   "metadata": {},
   "outputs": [
    {
     "name": "stdout",
     "output_type": "stream",
     "text": [
      "(68, 40)\n"
     ]
    }
   ],
   "source": [
    "encoding_columns = ['Succession', 'Cause', 'Killer', 'Dynasty', 'Era']\n",
    "romans_encoded = encode_categorical(romans_nona, encoding_columns, romans_encoders)\n",
    "\n",
    "one_hot_encoder = OneHotEncoder().fit(romans_encoded)\n",
    "romans_sparse = one_hot_encoder.transform(romans_encoded)\n",
    "romans_full = pd.np.concatenate([romans_sparse.todense(), romans_data[['AgeOfSuccession']]], axis=1)\n",
    "\n",
    "print(romans_full.shape)"
   ]
  },
  {
   "cell_type": "markdown",
   "metadata": {},
   "source": [
    "Добре, фийчърите вече са по - малко от данните. Това може да е полезно."
   ]
  },
  {
   "cell_type": "code",
   "execution_count": 30,
   "metadata": {},
   "outputs": [
    {
     "name": "stdout",
     "output_type": "stream",
     "text": [
      "Train set score: 0.7837731284504257\n",
      "Test set score: -0.45615278012025073\n"
     ]
    }
   ],
   "source": [
    "x_train, x_test, y_train, y_test = train_test_split(romans_full, \n",
    "                                                    romans_days_in_power, \n",
    "                                                    test_size=0.3, \n",
    "                                                    random_state=42)\n",
    "\n",
    "regressor = LinearRegression()\n",
    "regressor.fit(x_train, y_train)\n",
    "\n",
    "print('Train set score: {}'.format(regressor.score(x_train, y_train)))\n",
    "print('Test set score: {}'.format(regressor.score(x_test, y_test)))"
   ]
  },
  {
   "cell_type": "markdown",
   "metadata": {},
   "source": [
    "Това е известно подобрени! Не дали е от значение, но още се борим да се върнем над нулата. Нека пробваме с други фийчъри. Но междувременно това може да си го направим на малка функция."
   ]
  },
  {
   "cell_type": "code",
   "execution_count": 31,
   "metadata": {},
   "outputs": [
    {
     "name": "stdout",
     "output_type": "stream",
     "text": [
      "--Succession, Killer--\n",
      "train: 0.4935706837183367\n",
      "test: -0.17358005667873022\n",
      "\n",
      "--Succession, Cause--\n",
      "train: 0.5028024083686728\n",
      "test: -0.13051075005313773\n",
      "\n",
      "--Succession, Cause, Killer--\n",
      "train: 0.5338331026577005\n",
      "test: -0.3579543138087824\n",
      "\n",
      "--Succession, Cause, Killer, Era--\n",
      "train: 0.5460839010880241\n",
      "test: -0.36944243484749273\n",
      "\n",
      "--Succession, Cause, Killer, Dynasty--\n",
      "train: 0.7837731284504257\n",
      "test: -0.4561527801202383\n",
      "\n",
      "--Cause, Killer, Dynasty, Era--\n",
      "train: 0.7264303990698757\n",
      "test: -0.318482579956167\n",
      "\n",
      "--Cause, Killer, Dynasty--\n",
      "train: 0.7264303990698757\n",
      "test: -0.3184825799561606\n",
      "\n",
      "--Cause, Killer--\n",
      "train: 0.3779940973311289\n",
      "test: 0.27042210007790823\n",
      "\n",
      "--Cause, Killer, Era--\n",
      "train: 0.4090799907651612\n",
      "test: 0.2766664370662204\n",
      "\n",
      "--Cause--\n",
      "train: 0.28829988759974623\n",
      "test: 0.11970424067139152\n",
      "\n",
      "--Killer--\n",
      "train: 0.35615479682410345\n",
      "test: 0.15475614564479045\n",
      "\n",
      "--Succession--\n",
      "train: 0.35550608341975243\n",
      "test: -0.39064657010041515\n",
      "\n",
      "--Dynasty--\n",
      "train: 0.5041486052076813\n",
      "test: -0.34073439708304587\n",
      "\n",
      "--Era--\n",
      "train: 0.10153444255546329\n",
      "test: 0.12452640443088536\n",
      "\n",
      "--Era, Killer--\n",
      "train: 0.3811952938158224\n",
      "test: 0.12425843168734531\n",
      "\n",
      "--Era, Cause--\n",
      "train: 0.29497114327680785\n",
      "test: 0.13193509097797873\n",
      "\n"
     ]
    }
   ],
   "source": [
    "def try_feature_set(encoding_columns, romans_nona, romans_encoders):\n",
    "    romans_encoded = encode_categorical(romans_nona, encoding_columns, romans_encoders)\n",
    "    one_hot_encoder = OneHotEncoder().fit(romans_encoded)\n",
    "    romans_sparse = one_hot_encoder.transform(romans_encoded)\n",
    "    romans_full_set = pd.np.concatenate([romans_sparse.todense(), romans_data[['AgeOfSuccession']]], axis=1)\n",
    "    x_train, x_test, y_train, y_test = train_test_split(romans_full_set, \n",
    "                                                        romans_days_in_power, \n",
    "                                                        test_size=0.3, \n",
    "                                                        random_state=42)\n",
    "    regressor = LinearRegression()\n",
    "    regressor.fit(x_train, y_train)\n",
    "    \n",
    "    return (regressor, regressor.score(x_train, y_train), regressor.score(x_test, y_test))\n",
    "\n",
    "possible_combinations = [\n",
    "    ['Succession', 'Killer'],\n",
    "    ['Succession', 'Cause'],\n",
    "    ['Succession', 'Cause', 'Killer'],\n",
    "    ['Succession', 'Cause', 'Killer', 'Era'],\n",
    "    ['Succession', 'Cause', 'Killer', 'Dynasty'],\n",
    "    ['Cause', 'Killer', 'Dynasty', 'Era'],\n",
    "    ['Cause', 'Killer', 'Dynasty'],\n",
    "    ['Cause', 'Killer'],\n",
    "    ['Cause', 'Killer', 'Era'],\n",
    "    ['Cause'],\n",
    "    ['Killer'],\n",
    "    ['Succession'],\n",
    "    ['Dynasty'],\n",
    "    ['Era'],\n",
    "    ['Era', 'Killer'],\n",
    "    ['Era', 'Cause'],\n",
    "    # Омръзна ми. Това са всички разумни варинати, за които се сещам.\n",
    "]\n",
    "\n",
    "for combination in possible_combinations:\n",
    "    _, train_score, test_score = try_feature_set(combination, romans_nona, romans_encoders)\n",
    "    print(\"--{}--\\ntrain: {}\\ntest: {}\\n\".format(', '.join(combination), train_score, test_score))"
   ]
  },
  {
   "cell_type": "markdown",
   "metadata": {},
   "source": [
    "О! Имаме някакъв напредък. Само с Cause, Killer, Era и AgeOfSuccession имаме вече положителни числа yey! Сега ще опитам да върна местата на раждане по един или друг начин."
   ]
  },
  {
   "cell_type": "code",
   "execution_count": 32,
   "metadata": {},
   "outputs": [
    {
     "name": "stdout",
     "output_type": "stream",
     "text": [
      "--Cause, Killer, Era, Birth City--\n",
      "train: 0.7150785967917395\n",
      "test: -0.4392627523777879\n",
      "\n",
      "--Cause, Killer, Era, Birth Province--\n",
      "train: 0.5647293614684562\n",
      "test: -0.34805362980804944\n",
      "\n",
      "--Cause, Killer, Era, Birth City, Birth Province--\n",
      "train: 0.7499720343468856\n",
      "test: -0.7986501037846774\n",
      "\n"
     ]
    }
   ],
   "source": [
    "possible_combinations = [\n",
    "    ['Cause', 'Killer', 'Era', 'Birth City'],\n",
    "    ['Cause', 'Killer', 'Era', 'Birth Province'],\n",
    "    ['Cause', 'Killer', 'Era', 'Birth City', 'Birth Province'],\n",
    "]\n",
    "\n",
    "for combination in possible_combinations:\n",
    "    _, train_score, test_score = try_feature_set(combination, romans_nona, romans_encoders)\n",
    "    print(\"--{}--\\ntrain: {}\\ntest: {}\\n\".format(', '.join(combination), train_score, test_score))"
   ]
  },
  {
   "cell_type": "markdown",
   "metadata": {},
   "source": [
    "Не, не помагат изобщо! Но още си спомням теорията си за роден във военен град или не. Според мен си струва да се опита."
   ]
  },
  {
   "cell_type": "code",
   "execution_count": 33,
   "metadata": {},
   "outputs": [
    {
     "name": "stdout",
     "output_type": "stream",
     "text": [
      "--EmperorType--\n",
      "train: 0.1272584480842145\n",
      "test: 0.027132490942511134\n",
      "\n",
      "--Cause, EmperorType--\n",
      "train: 0.32158752420439496\n",
      "test: 0.0403653820483596\n",
      "\n",
      "--Cause, Era, EmperorType--\n",
      "train: 0.3376797749734055\n",
      "test: 0.04273202365383966\n",
      "\n",
      "--Killer, EmperorType--\n",
      "train: 0.4075901875431346\n",
      "test: -0.18496821474141512\n",
      "\n",
      "--Killer, Era, EmperorType--\n",
      "train: 0.44878593552391044\n",
      "test: -0.22437665869150325\n",
      "\n",
      "--Cause, Killer, EmperorType--\n",
      "train: 0.42716573301908967\n",
      "test: -0.060306871162425724\n",
      "\n",
      "--Cause, Killer, Era, EmperorType--\n",
      "train: 0.4854787321084404\n",
      "test: -0.14935588874162264\n",
      "\n",
      "--Cause, Killer, Dynasty, EmperorType--\n",
      "train: 0.7487172187225626\n",
      "test: -1.0662925695602627\n",
      "\n",
      "--Cause, Killer, Dynasty, Era, EmperorType--\n",
      "train: 0.7487172187225625\n",
      "test: -1.0662925695602685\n",
      "\n"
     ]
    }
   ],
   "source": [
    "def emperor_type_by_birth_place(birth_place):\n",
    "    if birth_place in ['Sirmium', 'Singidunum']:\n",
    "        return 'Soldier'\n",
    "    if birth_place in ['Rome', 'Constantinople']:\n",
    "        return 'Patrician'\n",
    "    return 'Pleb'\n",
    "\n",
    "romans_data['EmperorType'] = romans_data['Birth City'].map(emperor_type_by_birth_place)\n",
    "romans_nona = romans_data.fillna(\"\")\n",
    "encoding_columns += ['EmperorType']\n",
    "romans_encoders = {col: LabelEncoder().fit(romans_nona[col]) for col in encoding_columns}\n",
    "\n",
    "possible_combinations = [\n",
    "    ['EmperorType'],\n",
    "    ['Cause', 'EmperorType'],\n",
    "    ['Cause', 'Era', 'EmperorType'],\n",
    "    ['Killer', 'EmperorType'],\n",
    "    ['Killer', 'Era', 'EmperorType'],\n",
    "    ['Cause', 'Killer', 'EmperorType'],\n",
    "    ['Cause', 'Killer', 'Era', 'EmperorType'],\n",
    "    ['Cause', 'Killer', 'Dynasty', 'EmperorType'],\n",
    "    ['Cause', 'Killer', 'Dynasty', 'Era', 'EmperorType'],\n",
    "]\n",
    "\n",
    "for combination in possible_combinations:\n",
    "    _, train_score, test_score = try_feature_set(combination, romans_nona, romans_encoders)\n",
    "    print(\"--{}--\\ntrain: {}\\ntest: {}\\n\".format(', '.join(combination), train_score, test_score))"
   ]
  },
  {
   "cell_type": "markdown",
   "metadata": {},
   "source": [
    "Единственият извод, който мога да си направя тук е: колкото по - малко фийчъри, толкова по - добре :D За това нека се върнем няколко стъпки назад."
   ]
  },
  {
   "cell_type": "code",
   "execution_count": 34,
   "metadata": {},
   "outputs": [
    {
     "name": "stdout",
     "output_type": "stream",
     "text": [
      "Train set score: 0.0971504977222345\n",
      "Test set score: 0.09046578328236898\n"
     ]
    }
   ],
   "source": [
    "# Още на графиката си личеше, че няма да стане. Но да го сравним с останалите резултати.\n",
    "x_train, x_test, y_train, y_test = train_test_split(romans_data[['AgeOfSuccession']], \n",
    "                                                    romans_days_in_power, \n",
    "                                                    test_size=0.3, \n",
    "                                                    random_state=42)\n",
    "\n",
    "regressor = LinearRegression()\n",
    "regressor.fit(x_train, y_train)\n",
    "\n",
    "print('Train set score: {}'.format(regressor.score(x_train, y_train)))\n",
    "print('Test set score: {}'.format(regressor.score(x_test, y_test)))"
   ]
  },
  {
   "cell_type": "markdown",
   "metadata": {},
   "source": [
    "Хм. Имма друга идея. Струва ми се логично, че времето което е управлявал _прединият_ император може да има значение за текущият. Така, ако времената са лоши е по - вероятно императорът да не се задържи т.к. се е качил на трона по време на граждански войни, несигурност и други неприятни фактори. Лоши времена биха били [69AD - годината на четерите императора](https://en.wikipedia.org/wiki/Year_of_the_Four_Emperors), [193AD - годината на петте императора](https://en.wikipedia.org/wiki/Year_of_the_Five_Emperors), [238AD - годината на шестте императора](https://en.wikipedia.org/wiki/Year_of_the_Six_Emperors) и т.н. Забелязва се как `Х` в \"Годината на X императора\" продължава да расте за известно време. Със сигурност на римляните по това време хич не им е било забавно!"
   ]
  },
  {
   "cell_type": "code",
   "execution_count": 35,
   "metadata": {},
   "outputs": [],
   "source": [
    "romans_with_prev = romans_data.copy()\n",
    "romans_with_prev.PreviousEmperorRule = romans_with_prev.DaysInPower\n",
    "\n",
    "# Възползваме се от това, че индексите на императорите са поредни. Не съвсем, когато става въпрос за такива\n",
    "# управляващи по едно и също време, но пак е достатъчно близо.\n",
    "for ind in range(2, len(romans_data)+1):\n",
    "    prev_ind = ind-1\n",
    "    romans_with_prev.at[ind, 'PreviousEmperorRule'] = romans_data.at[prev_ind, 'DaysInPower']\n",
    "\n",
    "# Махаме Август т.к. за него нямаме предишен император\n",
    "romans_with_prev = romans_with_prev.drop(1)"
   ]
  },
  {
   "cell_type": "markdown",
   "metadata": {},
   "source": [
    "Нека видим дали има някаква очевидна връзка между новата колона и target-а."
   ]
  },
  {
   "cell_type": "code",
   "execution_count": 36,
   "metadata": {},
   "outputs": [
    {
     "data": {
      "image/png": "[encoded data removed]",
      "text/plain": [
       "<matplotlib.figure.Figure at 0x10bb9a4e0>"
      ]
     },
     "metadata": {},
     "output_type": "display_data"
    }
   ],
   "source": [
    "plt.close()\n",
    "\n",
    "plt.scatter(romans_with_prev.PreviousEmperorRule, romans_with_prev.DaysInPower)\n",
    "plt.gca().set_xlim(0, 15000)\n",
    "plt.gca().set_ylim(0, 15000)\n",
    "plt.gca().set_xlabel('Prev Days in Power')\n",
    "plt.gca().set_ylabel('Days in Power');"
   ]
  },
  {
   "cell_type": "markdown",
   "metadata": {},
   "source": [
    "Не мога да кажа, че виждам особено сериозна връзка."
   ]
  },
  {
   "cell_type": "code",
   "execution_count": 37,
   "metadata": {},
   "outputs": [
    {
     "name": "stdout",
     "output_type": "stream",
     "text": [
      "Train set score: 0.7005317294713329\n",
      "Test set score: -0.3072326899241511\n"
     ]
    }
   ],
   "source": [
    "romans_nona = romans_with_prev.fillna(\"\")\n",
    "romans_encoded = encode_categorical(romans_nona, encoding_columns, romans_encoders)\n",
    "with_prev_encoder_one_hot = OneHotEncoder().fit(romans_encoded)\n",
    "romans_sparse = with_prev_encoder_one_hot.transform(romans_encoded)\n",
    "romans_full_set = pd.np.concatenate([romans_sparse.todense(), romans_with_prev[['AgeOfSuccession', 'PreviousEmperorRule']]], axis=1)\n",
    "romans_with_prev_full = romans_full_set.copy()\n",
    "x_train, x_test, y_train, y_test = train_test_split(romans_full_set, \n",
    "                                                    romans_with_prev.DaysInPower, \n",
    "                                                    test_size=0.3, \n",
    "                                                    random_state=42)\n",
    "regressor = LinearRegression()\n",
    "regressor.fit(x_train, y_train)\n",
    "\n",
    "print('Train set score: {}'.format(regressor.score(x_train, y_train)))\n",
    "print('Test set score: {}'.format(regressor.score(x_test, y_test)))"
   ]
  },
  {
   "cell_type": "markdown",
   "metadata": {},
   "source": [
    "Отново много лош резултат. Т.к. отново използваме много feature-и. Да ги намаилм малкото отново. Спомням си, че от преди малко най - добрите опити бяха с (Cause, Killer), (Cause, Killer, Era), (Cause,), (Killer,). Ще ги опитам отново, но с добавени PreviousEmperorRule."
   ]
  },
  {
   "cell_type": "code",
   "execution_count": 38,
   "metadata": {},
   "outputs": [
    {
     "name": "stdout",
     "output_type": "stream",
     "text": [
      "Columns: ['Cause', 'Killer', 'AgeOfSuccession', 'PreviousEmperorRule']\n",
      "Train set score: 0.4788652489940492\n",
      "Test set score: -0.5979999858889091\n",
      "\n",
      "Columns: ['Cause', 'Killer', 'Era', 'AgeOfSuccession', 'PreviousEmperorRule']\n",
      "Train set score: 0.537600375075316\n",
      "Test set score: -0.7505662478375827\n",
      "\n",
      "Columns: ['Cause', 'AgeOfSuccession', 'PreviousEmperorRule']\n",
      "Train set score: 0.3907530300521164\n",
      "Test set score: -0.5957525225093914\n",
      "\n",
      "Columns: ['Killer', 'AgeOfSuccession', 'PreviousEmperorRule']\n",
      "Train set score: 0.44205312655426826\n",
      "Test set score: -0.19575746250478399\n",
      "\n"
     ]
    }
   ],
   "source": [
    "concatenated = ['AgeOfSuccession', 'PreviousEmperorRule']\n",
    "possible_combinations = [\n",
    "    ['Cause', 'Killer'],\n",
    "    ['Cause', 'Killer', 'Era'],\n",
    "    ['Cause'],\n",
    "    ['Killer'],\n",
    "]\n",
    "\n",
    "for encoding_columns in possible_combinations:\n",
    "    romans_encoded = encode_categorical(romans_nona, encoding_columns, romans_encoders)\n",
    "    one_hot_encoder = OneHotEncoder().fit(romans_encoded)\n",
    "    romans_sparse = one_hot_encoder.transform(romans_encoded)\n",
    "    romans_full_set = pd.np.concatenate([romans_sparse.todense(), romans_with_prev[concatenated]], axis=1)\n",
    "    x_train, x_test, y_train, y_test = train_test_split(romans_full_set, \n",
    "                                                        romans_with_prev.DaysInPower, \n",
    "                                                        test_size=0.3, \n",
    "                                                        random_state=42)\n",
    "    regressor = LinearRegression()\n",
    "    regressor.fit(x_train, y_train)\n",
    "\n",
    "    print(\"Columns: {}\".format(encoding_columns + concatenated))\n",
    "    print(\"Train set score: {}\".format(regressor.score(x_train, y_train)))\n",
    "    print(\"Test set score: {}\\n\".format(regressor.score(x_test, y_test)))"
   ]
  },
  {
   "cell_type": "markdown",
   "metadata": {},
   "source": [
    "## Други алгоритми\n",
    "\n",
    "Мисля, че дойде времето да се опита с нещо различно от линейна регресия. Вече нямам никакви нови идеи. Първо, вижда ми се логично, че kNN може да е добър лгоритъм за намиране на модел т.к. ако император е поставен в подобна ситуация очакваме да има подобни резултати и продължителност на управление?"
   ]
  },
  {
   "cell_type": "code",
   "execution_count": 39,
   "metadata": {},
   "outputs": [
    {
     "name": "stdout",
     "output_type": "stream",
     "text": [
      "1 nieghtbours\n",
      "Train set score: 1.0\n",
      "Test set score: -1.1462780866854434\n",
      "\n",
      "2 nieghtbours\n",
      "Train set score: 0.7238198042029338\n",
      "Test set score: -0.5403104390503495\n",
      "\n",
      "3 nieghtbours\n",
      "Train set score: 0.5506431424623852\n",
      "Test set score: -0.516329873835228\n",
      "\n",
      "4 nieghtbours\n",
      "Train set score: 0.4463598340200565\n",
      "Test set score: -0.8675329934197318\n",
      "\n",
      "5 nieghtbours\n",
      "Train set score: 0.40762992153556377\n",
      "Test set score: -1.129820127162263\n",
      "\n"
     ]
    }
   ],
   "source": [
    "from sklearn.neighbors import KNeighborsRegressor\n",
    "\n",
    "x_train, x_test, y_train, y_test = train_test_split(romans_with_prev_full, \n",
    "                                                    romans_with_prev.DaysInPower, \n",
    "                                                    test_size=0.3, \n",
    "                                                    random_state=42)\n",
    "\n",
    "for n in range(1, 6):\n",
    "    regressor = KNeighborsRegressor(n_neighbors=n)\n",
    "    regressor.fit(x_train, y_train)\n",
    "\n",
    "    print(\"{} nieghtbours\".format(n))\n",
    "    print(\"Train set score: {}\".format(regressor.score(x_train, y_train)))\n",
    "    print(\"Test set score: {}\\n\".format(regressor.score(x_test, y_test)))"
   ]
  },
  {
   "cell_type": "markdown",
   "metadata": {},
   "source": [
    "По - добре от първоначалните опити с линейна регресия, но все още крайно недостатъчно. Може би random forest т.к. лесно ще се отърве от излишните данни?"
   ]
  },
  {
   "cell_type": "code",
   "execution_count": 40,
   "metadata": {},
   "outputs": [
    {
     "name": "stdout",
     "output_type": "stream",
     "text": [
      "5 n_estimators\n",
      "Train set score: 0.8164681140330194\n",
      "Test set score: -0.0591596668716341\n",
      "\n",
      "10 n_estimators\n",
      "Train set score: 0.8750141335956695\n",
      "Test set score: -0.2214087543299441\n",
      "\n",
      "100 n_estimators\n",
      "Train set score: 0.8880798436248347\n",
      "Test set score: -0.09026132130643649\n",
      "\n",
      "200 n_estimators\n",
      "Train set score: 0.8875974567356074\n",
      "Test set score: -0.06617634946702311\n",
      "\n",
      "500 n_estimators\n",
      "Train set score: 0.8892950529571018\n",
      "Test set score: -0.074315415979465\n",
      "\n",
      "1000 n_estimators\n",
      "Train set score: 0.8911278825960002\n",
      "Test set score: -0.06711529914334347\n",
      "\n"
     ]
    }
   ],
   "source": [
    "from sklearn.ensemble import RandomForestRegressor\n",
    "\n",
    "for e in [5, 10, 100, 200, 500, 1000]:\n",
    "    regressor = RandomForestRegressor(n_estimators=e, n_jobs=3, random_state=42)\n",
    "    regressor.fit(x_train, y_train)\n",
    "    print(\"{} n_estimators\".format(e))\n",
    "    print(\"Train set score: {}\".format(regressor.score(x_train, y_train)))\n",
    "    print(\"Test set score: {}\\n\".format(regressor.score(x_test, y_test)))"
   ]
  },
  {
   "cell_type": "markdown",
   "metadata": {},
   "source": [
    "Яко overfitting. Интересно ми е, какво ли си мисли, че са най - полезните фийчъри?"
   ]
  },
  {
   "cell_type": "code",
   "execution_count": 41,
   "metadata": {},
   "outputs": [
    {
     "data": {
      "text/plain": [
       "RandomForestRegressor(bootstrap=True, criterion='mse', max_depth=None,\n",
       "           max_features='auto', max_leaf_nodes=None,\n",
       "           min_impurity_decrease=0.0, min_impurity_split=None,\n",
       "           min_samples_leaf=1, min_samples_split=2,\n",
       "           min_weight_fraction_leaf=0.0, n_estimators=1000, n_jobs=3,\n",
       "           oob_score=False, random_state=200, verbose=0, warm_start=False)"
      ]
     },
     "execution_count": 41,
     "metadata": {},
     "output_type": "execute_result"
    }
   ],
   "source": [
    "# Взимам си най - хубавото дърво\n",
    "regressor = RandomForestRegressor(n_estimators=e, n_jobs=3, random_state=200)\n",
    "regressor.fit(x_train, y_train)"
   ]
  },
  {
   "cell_type": "code",
   "execution_count": 65,
   "metadata": {},
   "outputs": [
    {
     "name": "stdout",
     "output_type": "stream",
     "text": [
      "Feature ranking:\n",
      "1. feature 43 (0.273846)\n",
      "2. feature 42 (0.192588)\n",
      "3. feature 4 (0.120339)\n",
      "4. feature 38 (0.083229)\n",
      "5. feature 9 (0.037466)\n",
      "6. feature 22 (0.032953)\n"
     ]
    },
    {
     "data": {
      "image/png": "[encoded data removed]",
      "text/plain": [
       "<matplotlib.figure.Figure at 0x10ba457f0>"
      ]
     },
     "metadata": {},
     "output_type": "display_data"
    }
   ],
   "source": [
    "features_count = romans_with_prev_full.shape[1]\n",
    "\n",
    "importances = regressor.feature_importances_\n",
    "std = np.std([tree.feature_importances_ for tree in regressor.estimators_],\n",
    "             axis=0)\n",
    "indices = np.argsort(importances)[::-1]\n",
    "\n",
    "# Print the feature ranking\n",
    "print(\"Feature ranking:\")\n",
    "\n",
    "for f in range(min(6, features_count)):\n",
    "    print(\"%d. feature %d (%f)\" % (f + 1, indices[f], importances[indices[f]]))\n",
    "\n",
    "# Plot the feature importances of the forest\n",
    "plt.close()\n",
    "plt.figure(figsize=(14, 14), dpi=80)\n",
    "plt.title(\"Feature importances\")\n",
    "plt.barh(range(features_count), importances[indices],\n",
    "       color=\"r\", xerr=std[indices], align=\"center\")\n",
    "plt.yticks(range(features_count), indices)\n",
    "plt.ylim([-1, features_count])\n",
    "plt.show()"
   ]
  },
  {
   "cell_type": "markdown",
   "metadata": {},
   "source": [
    "Подозирам, че feature 43 и 42 са PreviousEmperorRule и AgeOfSuccession. От тази гледна точка random forest-а се съгласява с мен, че са съгласни :) Но всъщност не знам как да го проверя. Как да обърна тези feature index-и отново към имената на фийчърите? Ясно е, че за много от тях след OneHot ще са от типа неща от сорта \"IsDominata\", \"IsPrincipate\" и т.н."
   ]
  },
  {
   "cell_type": "markdown",
   "metadata": {},
   "source": [
    "Това нищо съществено не ми подсказва. Може би, както предполагах, няма никаква реална зависимост между тези данни и продължителноста на управление на император. Мисля да спра до тук. Но имам и няколко други идеи:\n",
    "\n",
    "- Да се направят bin-ове с деситилетията и да се добави всички дати на императорите в някакъв bin\n",
    "- Да се опита със SVM т.к. уж те се справяли когато имаш много feature-и малко данни"
   ]
  }
 ],
 "metadata": {
  "kernelspec": {
   "display_name": "Python 3",
   "language": "python",
   "name": "python3"
  },
  "language_info": {
   "codemirror_mode": {
    "name": "ipython",
    "version": 3
   },
   "file_extension": ".py",
   "mimetype": "text/x-python",
   "name": "python",
   "nbconvert_exporter": "python",
   "pygments_lexer": "ipython3",
   "version": "3.5.2"
  }
 },
 "nbformat": 4,
 "nbformat_minor": 2
}
